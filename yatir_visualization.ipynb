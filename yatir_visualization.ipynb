{
 "cells": [
  {
   "cell_type": "code",
   "execution_count": null,
   "metadata": {
    "ein.hycell": false,
    "ein.tags": "worksheet-0",
    "slideshow": {
     "slide_type": "-"
    }
   },
   "outputs": [],
   "source": [
    "import numpy as np\n",
    "import xarray as xr\n",
    "import hvplot.xarray\n",
    "import panel as pn\n",
    "import pandas as pd\n",
    "\n",
    "import geoviews_tools as gt\n",
    "import surface_panels_quick_dirty as spqd"
   ]
  },
  {
   "cell_type": "code",
   "execution_count": null,
   "metadata": {
    "scrolled": true
   },
   "outputs": [],
   "source": [
    "pn.pane.Markdown('''# Yatir Parameterizaton WRF results\n",
    "\n",
    "A collection of plots showing WRF-simulated surface energy and carbon fluxes for\n",
    "two different simulations of Yatir Forest in Israel.  The first WRF run is a \n",
    "control run using 'out of the box' NOAH-MP land surface parameterizations derived \n",
    "from MODIS land cover types.  The second WRF run is an experimental run that set \n",
    "a 15-km radius surrounding Yatir Forest to a lower albedo and higher surface \n",
    "roughness length relative to both the open shrubland PFT that occupies the \n",
    "area in the control run as well as the desert surrounding the forest.\n",
    "''').servable()"
   ]
  },
  {
   "cell_type": "raw",
   "metadata": {},
   "source": [
    "ctlday, ytrday, ctl_minus_ytr = gt.merge_yatir_fluxes_landuse(\n",
    "    fname_ctl='https://portal.nersc.gov/project/m2319/YatirDataWetSoil/ctl_d03_VWCx2_postprocessed.nc',\n",
    "    fname_yatir='https://portal.nersc.gov/project/m2319/YatirDataWetSoil/ytr_d03_VWCx2_postprocessed.nc')"
   ]
  },
  {
   "cell_type": "code",
   "execution_count": null,
   "metadata": {},
   "outputs": [],
   "source": [
    "# use local data\n",
    "ctlday, ytrday, ctl_minus_ytr = gt.merge_yatir_fluxes_landuse(\n",
    "    fname_ctl='./ctl_d03_VWCx2_postprocessed.nc',\n",
    "    fname_yatir='./ytr_d03_VWCx2_postprocessed.nc')"
   ]
  },
  {
   "cell_type": "code",
   "execution_count": null,
   "metadata": {},
   "outputs": [],
   "source": [
    "ds_diff = xr.concat([ctlday, ytrday, ctl_minus_ytr], \n",
    "                    dim=pd.Index(['yatir dry', 'yatir wet', 'Yatir dry - Yatir wet'], name='WRFrun'))"
   ]
  },
  {
   "cell_type": "code",
   "execution_count": null,
   "metadata": {},
   "outputs": [],
   "source": [
    "# make bottom_top_stag, bottom_top into coordinate variables\n",
    "ds_diff = ds_diff.assign_coords({'bottom_top_stag': np.arange(ds_diff.dims['bottom_top_stag'])})\n",
    "ds_diff = ds_diff.assign_coords({'bottom_top': np.arange(ds_diff.dims['bottom_top'])})\n",
    "# set 'long_name' attribute to match description\n",
    "ds_diff = gt.set_attributes_for_plotting(ds_diff)\n",
    "\n",
    "yatir_idx = 21  # list(ds_diff['PFT'].values).index('Yatir')  \n",
    "#ds_diff = ds_diff.assign(yatir_mask=ds_diff.sel(WRFrun='yatir dry')['LU_INDEX'] == yatir_idx)"
   ]
  },
  {
   "cell_type": "raw",
   "metadata": {
    "scrolled": false
   },
   "source": [
    "spqd.three_panel_quadmesh_compare_vertical_var(ds_diff, 'W', cmap='PRGn').servable()"
   ]
  },
  {
   "cell_type": "raw",
   "metadata": {},
   "source": [
    "spqd.three_panel_quadmesh_compare_vertical_var(ds_diff, 'theta', cmap='Blues').servable()"
   ]
  },
  {
   "cell_type": "raw",
   "metadata": {},
   "source": [
    "spqd.three_panel_quadmesh_compare_surface_var(ds_diff, 'FSA', cmap='Reds').servable()"
   ]
  },
  {
   "cell_type": "raw",
   "metadata": {},
   "source": [
    "spqd.three_panel_quadmesh_compare_surface_var(ds_diff, 'FIRA', cmap='Reds').servable()"
   ]
  },
  {
   "cell_type": "raw",
   "metadata": {},
   "source": [
    "spqd.three_panel_quadmesh_compare_surface_var(ds_diff, 'HFX', cmap='Reds').servable()"
   ]
  },
  {
   "cell_type": "raw",
   "metadata": {},
   "source": [
    "spqd.three_panel_quadmesh_compare_surface_var(ds_diff, 'LH', cmap='Blues').servable()"
   ]
  },
  {
   "cell_type": "code",
   "execution_count": null,
   "metadata": {},
   "outputs": [],
   "source": [
    "pn.pane.Markdown('''The end''').servable()"
   ]
  }
 ],
 "metadata": {
  "kernelspec": {
   "display_name": "yatir_viz_github",
   "language": "python",
   "name": "yatir_viz_github"
  },
  "language_info": {
   "codemirror_mode": {
    "name": "ipython",
    "version": 3
   },
   "file_extension": ".py",
   "mimetype": "text/x-python",
   "name": "python",
   "nbconvert_exporter": "python",
   "pygments_lexer": "ipython3",
   "version": "3.7.6"
  }
 },
 "nbformat": 4,
 "nbformat_minor": 4
}
